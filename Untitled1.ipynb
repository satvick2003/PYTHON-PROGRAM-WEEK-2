{
  "nbformat": 4,
  "nbformat_minor": 0,
  "metadata": {
    "colab": {
      "provenance": [],
      "authorship_tag": "ABX9TyOAYpLiVOvmT1z7lDE0VuJj",
      "include_colab_link": true
    },
    "kernelspec": {
      "name": "python3",
      "display_name": "Python 3"
    },
    "language_info": {
      "name": "python"
    }
  },
  "cells": [
    {
      "cell_type": "markdown",
      "metadata": {
        "id": "view-in-github",
        "colab_type": "text"
      },
      "source": [
        "<a href=\"https://colab.research.google.com/github/satvick2003/PYTHON-PROGRAM-WEEK-2/blob/main/Untitled1.ipynb\" target=\"_parent\"><img src=\"https://colab.research.google.com/assets/colab-badge.svg\" alt=\"Open In Colab\"/></a>"
      ]
    },
    {
      "cell_type": "code",
      "execution_count": 2,
      "metadata": {
        "id": "iYbqE55QhxQL"
      },
      "outputs": [],
      "source": [
        "import string\n",
        "import secrets\n"
      ]
    },
    {
      "cell_type": "code",
      "source": [
        "def generate_password(length=12, use_upper=True, use_lower=True, use_digits=True, use_special=True):\n",
        "    characters = \"\"\n",
        "    if use_upper:\n",
        "        characters += string.ascii_uppercase\n",
        "    if use_lower:\n",
        "        characters += string.ascii_lowercase\n",
        "    if use_digits:\n",
        "        characters += string.digits\n",
        "    if use_special:\n",
        "        characters += string.punctuation\n",
        "\n",
        "    if not characters:\n",
        "        raise ValueError(\"No character sets selected for password generation!\")\n",
        "\n",
        "    password = ''.join(secrets.choice(characters) for _ in range(length))\n",
        "    return password\n"
      ],
      "metadata": {
        "id": "2QlLd2sIiUzk"
      },
      "execution_count": 3,
      "outputs": []
    },
    {
      "cell_type": "code",
      "source": [
        "def main():\n",
        "    print(\"Welcome to the Password Generator!\")\n",
        "\n",
        "    length = int(input(\"Enter password length: \"))\n",
        "    use_upper = input(\"Include uppercase letters? (y/n): \").lower() == 'y'\n",
        "    use_lower = input(\"Include lowercase letters? (y/n): \").lower() == 'y'\n",
        "    use_digits = input(\"Include digits? (y/n): \").lower() == 'y'\n",
        "    use_special = input(\"Include special characters? (y/n): \").lower() == 'y'\n",
        "\n",
        "    password = generate_password(length, use_upper, use_lower, use_digits, use_special)\n",
        "    print(f\"Generated password: {password}\")\n"
      ],
      "metadata": {
        "id": "dNcQtM5SiZbW"
      },
      "execution_count": 4,
      "outputs": []
    },
    {
      "cell_type": "code",
      "source": [
        "if __name__ == \"__main__\":\n",
        "    main()\n"
      ],
      "metadata": {
        "colab": {
          "base_uri": "https://localhost:8080/"
        },
        "id": "JjKqdS6bidn2",
        "outputId": "2baad752-66f3-4978-f056-a23d07c54057"
      },
      "execution_count": 5,
      "outputs": [
        {
          "output_type": "stream",
          "name": "stdout",
          "text": [
            "Welcome to the Password Generator!\n",
            "Enter password length: 12\n",
            "Include uppercase letters? (y/n): Y\n",
            "Include lowercase letters? (y/n): Y\n",
            "Include digits? (y/n): Y\n",
            "Include special characters? (y/n): Y\n",
            "Generated password: {b6q27w?E7,1\n"
          ]
        }
      ]
    }
  ]
}